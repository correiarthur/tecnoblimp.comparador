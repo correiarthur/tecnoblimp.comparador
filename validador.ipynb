{
 "cells": [
  {
   "cell_type": "code",
   "execution_count": null,
   "id": "9e9a2f84",
   "metadata": {},
   "outputs": [],
   "source": [
    "# Bibliotecas utilizadas\n",
    "import pandas as pd\n",
    "\n",
    "# Carregar os arquivos Excel\n",
    "carga = pd.read_excel('dados/carga.xlsx')\n",
    "sistema = pd.read_excel('dados/sistema.xlsx')\n",
    "\n",
    "# Cria uma terceira tabela para alocar o resultado (carga com a coluna de Resultado)\n",
    "analise = carga.copy()"
   ]
  },
  {
   "cell_type": "code",
   "execution_count": null,
   "id": "0001eb5a",
   "metadata": {},
   "outputs": [],
   "source": [
    "# Compara CPF\n",
    "analise['ComparaCPF'] = analise['CPF'].apply(lambda x: 'Localizado' if x in sistema['CPF'].values else 'Não Localizado')\n",
    "\n",
    "# Mostra o resultado da comparação\n",
    "analise.head()"
   ]
  },
  {
   "cell_type": "code",
   "execution_count": null,
   "id": "2508b63b",
   "metadata": {},
   "outputs": [],
   "source": [
    "# Seleciona colunas CPF e Nome\n",
    "concatCarga = ['CPF','Nome']\n",
    "concatSistema = ['CPF','Nome']\n",
    "\n",
    "# Cria as colunas-chave concatenando as colunas escolhidas em cada arquivo\n",
    "analise['chaveCPF&Nome'] = analise[concatCarga].astype(str).agg(''.join, axis=1)\n",
    "sistema['chaveCPF&Nome'] = sistema[concatSistema].astype(str).agg(''.join, axis=1)\n",
    "\n",
    "# Compara CPF e Nome\n",
    "analise['ComparaCPF_Nome'] = analise['chaveCPF&Nome'].apply(lambda x: 'Localizado' if x in sistema['chaveCPF&Nome'].values else 'Não Localizado')\n",
    "\n",
    "# Mostra o resultado da comparação\n",
    "analise.head()"
   ]
  },
  {
   "cell_type": "code",
   "execution_count": null,
   "id": "2ebb1219",
   "metadata": {},
   "outputs": [],
   "source": [
    "# Seleciona colunas CPF e Data Nascimento\n",
    "concatCarga = ['CPF','Data_Nascimento']\n",
    "concatSistema = ['CPF','Data_Nascimento']\n",
    "\n",
    "# Cria as colunas-chave concatenando as colunas escolhidas em cada arquivo\n",
    "analise['chaveCPF&DtNasc'] = analise[concatCarga].astype(str).agg(''.join, axis=1)\n",
    "sistema['chaveCPF&DtNasc'] = sistema[concatSistema].astype(str).agg(''.join, axis=1)\n",
    "\n",
    "# Compara CPF e Nome\n",
    "analise['ComparaCPF_DtNasc'] = analise['chaveCPF&DtNasc'].apply(lambda x: 'Localizado' if x in sistema['chaveCPF&DtNasc'].values else 'Não Localizado')\n",
    "\n",
    "# Mostra o resultado da comparação\n",
    "analise.head()"
   ]
  },
  {
   "cell_type": "code",
   "execution_count": null,
   "id": "64328811",
   "metadata": {},
   "outputs": [],
   "source": [
    "# Seleciona colunas CPF e Sexo\n",
    "concatCarga = ['CPF','Sexo']\n",
    "concatSistema = ['CPF','Sexo']\n",
    "\n",
    "# Cria as colunas-chave concatenando as colunas escolhidas em cada arquivo\n",
    "analise['chaveCPF&Sexo'] = analise[concatCarga].astype(str).agg(''.join, axis=1)\n",
    "sistema['chaveCPF&Sexo'] = sistema[concatSistema].astype(str).agg(''.join, axis=1)\n",
    "\n",
    "# Compara CPF e Nome\n",
    "analise['ComparaCPF_Sexo'] = analise['chaveCPF&Sexo'].apply(lambda x: 'Localizado' if x in sistema['chaveCPF&Sexo'].values else 'Não Localizado')\n",
    "\n",
    "# Mostra o resultado da comparação\n",
    "analise.head()"
   ]
  },
  {
   "cell_type": "code",
   "execution_count": null,
   "id": "46a1babc",
   "metadata": {},
   "outputs": [],
   "source": [
    "# Seleciona colunas CPF e Matricula\n",
    "concatCarga = ['CPF','Matricula']\n",
    "concatSistema = ['CPF','Matricula']\n",
    "\n",
    "# Cria as colunas-chave concatenando as colunas escolhidas em cada arquivo\n",
    "analise['chaveCPF&Matricula'] = analise[concatCarga].astype(str).agg(''.join, axis=1)\n",
    "sistema['chaveCPF&Matricula'] = sistema[concatSistema].astype(str).agg(''.join, axis=1)\n",
    "\n",
    "# Compara CPF e Nome\n",
    "analise['ComparaCPF_Matricula'] = analise['chaveCPF&Matricula'].apply(lambda x: 'Localizado' if x in sistema['chaveCPF&Matricula'].values else 'Não Localizado')\n",
    "\n",
    "# Mostra o resultado da comparação\n",
    "analise.head()"
   ]
  },
  {
   "cell_type": "code",
   "execution_count": null,
   "id": "2a7bb8be",
   "metadata": {},
   "outputs": [],
   "source": [
    "# Seleciona todas as colunas em ambos os arquivos\n",
    "concatCarga = ['CPF','Nome', 'Data_Nascimento', 'Sexo', 'Matricula']\n",
    "concatSistema = ['CPF','Nome', 'Data_Nascimento', 'Sexo', 'Matricula']\n",
    "\n",
    "# Cria as colunas-chave concatenando as colunas escolhidas em cada arquivo\n",
    "analise['chave'] = analise[concatCarga].astype(str).agg(''.join, axis=1)\n",
    "sistema['chave'] = sistema[concatSistema].astype(str).agg(''.join, axis=1)\n",
    "\n",
    "# Compara as chaves e cria uma nova coluna com o resultado \"Localizado\" ou \"Não Localizado\"\n",
    "analise['Resultado'] = analise['chave'].apply(lambda x: 'Localizado' if x in sistema['chave'].values else 'Não Localizado')\n",
    "\n",
    "# Exporta para um arquivo para análise contendo três abas (carga, sistema e analise)\n",
    "with pd.ExcelWriter('analise.xlsx') as writer:\n",
    "    carga.to_excel(writer, sheet_name='DadosCarga', index=False)\n",
    "    sistema.to_excel(writer, sheet_name='DadosSistema', index=False)\n",
    "    analise.to_excel(writer, sheet_name='Analise', index=False)\n",
    "\n",
    "print('Arquivo exportado!')"
   ]
  }
 ],
 "metadata": {
  "kernelspec": {
   "display_name": "Python 3",
   "language": "python",
   "name": "python3"
  },
  "language_info": {
   "codemirror_mode": {
    "name": "ipython",
    "version": 3
   },
   "file_extension": ".py",
   "mimetype": "text/x-python",
   "name": "python",
   "nbconvert_exporter": "python",
   "pygments_lexer": "ipython3",
   "version": "3.11.9"
  }
 },
 "nbformat": 4,
 "nbformat_minor": 5
}
