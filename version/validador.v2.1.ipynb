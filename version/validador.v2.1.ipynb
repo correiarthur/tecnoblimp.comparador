{
 "cells": [
  {
   "cell_type": "markdown",
   "id": "9e9a2f84",
   "metadata": {},
   "source": [
    "Carregando Carga de Dados"
   ]
  },
  {
   "cell_type": "code",
   "execution_count": null,
   "id": "beb25329",
   "metadata": {},
   "outputs": [],
   "source": [
    "# Bibliotecas utilizadas\n",
    "import pandas as pd\n",
    "\n",
    "# Carregar a carga de dados já tratada\n",
    "carga = pd.read_excel('c:/Projects/tecnoblimp.comparadados.e2e/dados/carga.xlsx')"
   ]
  },
  {
   "cell_type": "markdown",
   "id": "0eaf2f02",
   "metadata": {},
   "source": [
    "Análise Qualitativa dos Dados"
   ]
  },
  {
   "cell_type": "code",
   "execution_count": null,
   "id": "72f594de",
   "metadata": {},
   "outputs": [],
   "source": [
    "#Visualizando as 5 primeiras linhas\n",
    "carga.tail()"
   ]
  },
  {
   "cell_type": "code",
   "execution_count": null,
   "id": "90483726",
   "metadata": {},
   "outputs": [],
   "source": [
    "#Verificando o tipo dos dados\n",
    "carga.dtypes"
   ]
  },
  {
   "cell_type": "code",
   "execution_count": null,
   "id": "f2bb6b22",
   "metadata": {},
   "outputs": [],
   "source": [
    "#Verificando se existem dados duplicados\n",
    "carga[carga.duplicated()]"
   ]
  },
  {
   "cell_type": "code",
   "execution_count": null,
   "id": "8cb598e7",
   "metadata": {},
   "outputs": [],
   "source": [
    "#Calcula a quantidade de valores nulos por colunas\n",
    "carga.isnull().sum()\n"
   ]
  },
  {
   "cell_type": "markdown",
   "id": "96353c84",
   "metadata": {},
   "source": [
    "Análise Quantitativa dos Dados"
   ]
  },
  {
   "cell_type": "code",
   "execution_count": null,
   "id": "c207f1bb",
   "metadata": {},
   "outputs": [],
   "source": [
    "# Carregando os dados do sistema\n",
    "sistema = pd.read_excel('c:/Projects/tecnoblimp.comparadados.e2e/dados/sistema.xlsx')\n",
    "\n",
    "# Cria uma terceira tabela, baseado na carga, para alocar o resultado\n",
    "analise = carga.copy()"
   ]
  },
  {
   "cell_type": "code",
   "execution_count": null,
   "id": "0001eb5a",
   "metadata": {},
   "outputs": [],
   "source": [
    "# Compara CPF\n",
    "analise['ComparaCPF'] = analise['CPF'].apply(lambda x: 'Localizado' if x in sistema['CPF'].values else 'Não Localizado')\n",
    "\n",
    "# Mostra o resultado da comparação (somente os registros Não Localizados)\n",
    "# Para mostrar os Localizados, alterar o valor após '=='\n",
    "analise[analise['ComparaCPF']=='Não Localizado'].head()"
   ]
  },
  {
   "cell_type": "code",
   "execution_count": null,
   "id": "dfa5adf7",
   "metadata": {},
   "outputs": [],
   "source": [
    "# Exporta a análise por CPF\n",
    "with pd.ExcelWriter('c:/Projects/tecnoblimp.comparadados.e2e/arquivos/analise_por_colunas/AnaliseCPF.xlsx') as writer:\n",
    "    analise.to_excel(writer, sheet_name='Analise', index=False)\n",
    "    carga.to_excel(writer, sheet_name='DadosCarga', index=False)\n",
    "    sistema.to_excel(writer, sheet_name='DadosSistema', index=False)"
   ]
  },
  {
   "cell_type": "code",
   "execution_count": null,
   "id": "2508b63b",
   "metadata": {},
   "outputs": [],
   "source": [
    "# Seleciona colunas CPF e Nome\n",
    "concatCarga = ['CPF','Nome']\n",
    "concatSistema = ['CPF','Nome']\n",
    "\n",
    "# Cria as colunas-chave concatenando as colunas escolhidas em cada arquivo\n",
    "analise['chaveCPF&Nome'] = analise[concatCarga].astype(str).agg(''.join, axis=1)\n",
    "sistema['chaveCPF&Nome'] = sistema[concatSistema].astype(str).agg(''.join, axis=1)\n",
    "\n",
    "# Compara CPF e Nome\n",
    "analise['ComparaCPF_Nome'] = analise['chaveCPF&Nome'].apply(lambda x: 'Localizado' if x in sistema['chaveCPF&Nome'].values else 'Não Localizado')\n",
    "\n",
    "# Mostra o resultado da comparação (somente os registros Não Localizados)\n",
    "# Para mostrar os Localizados, alterar o valor após '=='\n",
    "analise[analise['ComparaCPF_Nome']=='Não Localizado'].head()"
   ]
  },
  {
   "cell_type": "code",
   "execution_count": null,
   "id": "03c91cda",
   "metadata": {},
   "outputs": [],
   "source": [
    "# Exporta a comparação das colunas\n",
    "with pd.ExcelWriter('c:/Projects/tecnoblimp.comparadados.e2e/arquivos/analise_por_colunas/AnaliseCPF&Nome.xlsx') as writer:\n",
    "    analise.to_excel(writer, sheet_name='Analise', index=False)\n",
    "    carga.to_excel(writer, sheet_name='DadosCarga', index=False)\n",
    "    sistema.to_excel(writer, sheet_name='DadosSistema', index=False)"
   ]
  },
  {
   "cell_type": "code",
   "execution_count": null,
   "id": "2ebb1219",
   "metadata": {},
   "outputs": [],
   "source": [
    "# Seleciona colunas CPF e Data Nascimento\n",
    "concatCarga = ['CPF','Data_Nascimento']\n",
    "concatSistema = ['CPF','Data_Nascimento']\n",
    "\n",
    "# Cria as colunas-chave concatenando as colunas escolhidas em cada arquivo\n",
    "analise['chaveCPF&DtNasc'] = analise[concatCarga].astype(str).agg(''.join, axis=1)\n",
    "sistema['chaveCPF&DtNasc'] = sistema[concatSistema].astype(str).agg(''.join, axis=1)\n",
    "\n",
    "# Compara CPF e Nome\n",
    "analise['ComparaCPF_DtNasc'] = analise['chaveCPF&DtNasc'].apply(lambda x: 'Localizado' if x in sistema['chaveCPF&DtNasc'].values else 'Não Localizado')\n",
    "\n",
    "# Mostra o resultado da comparação (somente os registros Não Localizados)\n",
    "# Para mostrar os Localizados, alterar o valor após '=='\n",
    "analise[analise['ComparaCPF_DtNasc']=='Não Localizado'].head()"
   ]
  },
  {
   "cell_type": "code",
   "execution_count": null,
   "id": "ff9da6b2",
   "metadata": {},
   "outputs": [],
   "source": [
    "# Exporta a comparação das colunas\n",
    "with pd.ExcelWriter('c:/Projects/tecnoblimp.comparadados.e2e/arquivos/analise_por_colunas/AnaliseCPF&DataNascimento.xlsx') as writer:\n",
    "    analise.to_excel(writer, sheet_name='Analise', index=False)\n",
    "    carga.to_excel(writer, sheet_name='DadosCarga', index=False)\n",
    "    sistema.to_excel(writer, sheet_name='DadosSistema', index=False)"
   ]
  },
  {
   "cell_type": "code",
   "execution_count": null,
   "id": "64328811",
   "metadata": {},
   "outputs": [],
   "source": [
    "# Seleciona colunas CPF e Sexo\n",
    "concatCarga = ['CPF','Sexo']\n",
    "concatSistema = ['CPF','Sexo']\n",
    "\n",
    "# Cria as colunas-chave concatenando as colunas escolhidas em cada arquivo\n",
    "analise['chaveCPF&Sexo'] = analise[concatCarga].astype(str).agg(''.join, axis=1)\n",
    "sistema['chaveCPF&Sexo'] = sistema[concatSistema].astype(str).agg(''.join, axis=1)\n",
    "\n",
    "# Compara CPF e Nome\n",
    "analise['ComparaCPF_Sexo'] = analise['chaveCPF&Sexo'].apply(lambda x: 'Localizado' if x in sistema['chaveCPF&Sexo'].values else 'Não Localizado')\n",
    "\n",
    "# Mostra o resultado da comparação (somente os registros Não Localizados)\n",
    "# Para mostrar os Localizados, alterar o valor após '=='\n",
    "analise[analise['ComparaCPF_Sexo']=='Não Localizado'].head()"
   ]
  },
  {
   "cell_type": "code",
   "execution_count": null,
   "id": "16a85769",
   "metadata": {},
   "outputs": [],
   "source": [
    "# Exporta a comparação das colunas\n",
    "with pd.ExcelWriter('c:/Projects/tecnoblimp.comparadados.e2e/arquivos/analise_por_colunas/AnaliseCPF&Sexo.xlsx') as writer:\n",
    "    analise.to_excel(writer, sheet_name='Analise', index=False)\n",
    "    carga.to_excel(writer, sheet_name='DadosCarga', index=False)\n",
    "    sistema.to_excel(writer, sheet_name='DadosSistema', index=False)"
   ]
  },
  {
   "cell_type": "code",
   "execution_count": null,
   "id": "53a53be4",
   "metadata": {},
   "outputs": [],
   "source": []
  },
  {
   "cell_type": "code",
   "execution_count": null,
   "id": "46a1babc",
   "metadata": {},
   "outputs": [],
   "source": [
    "# Seleciona colunas CPF e Matricula\n",
    "concatCarga = ['CPF','Matricula']\n",
    "concatSistema = ['CPF','Matricula']\n",
    "\n",
    "# Cria as colunas-chave concatenando as colunas escolhidas em cada arquivo\n",
    "analise['chaveCPF&Matricula'] = analise[concatCarga].astype(str).agg(''.join, axis=1)\n",
    "sistema['chaveCPF&Matricula'] = sistema[concatSistema].astype(str).agg(''.join, axis=1)\n",
    "\n",
    "# Compara CPF e Nome\n",
    "analise['ComparaCPF_Matricula'] = analise['chaveCPF&Matricula'].apply(lambda x: 'Localizado' if x in sistema['chaveCPF&Matricula'].values else 'Não Localizado')\n",
    "\n",
    "# Mostra o resultado da comparação (somente os registros Não Localizados)\n",
    "# Para mostrar os Localizados, alterar o valor após '=='\n",
    "analise[analise['ComparaCPF_Matricula']=='Não Localizado'].head()"
   ]
  },
  {
   "cell_type": "code",
   "execution_count": null,
   "id": "bd851aa7",
   "metadata": {},
   "outputs": [],
   "source": [
    "# Exporta a comparação das colunas\n",
    "with pd.ExcelWriter('c:/Projects/tecnoblimp.comparadados.e2e/arquivos/analise_por_colunas/AnaliseCPF&Matricula.xlsx') as writer:\n",
    "    analise.to_excel(writer, sheet_name='Analise', index=False)\n",
    "    carga.to_excel(writer, sheet_name='DadosCarga', index=False)\n",
    "    sistema.to_excel(writer, sheet_name='DadosSistema', index=False)"
   ]
  },
  {
   "cell_type": "markdown",
   "id": "33722492",
   "metadata": {},
   "source": [
    "Junta Todas as Colunas e Exporta a Análise"
   ]
  },
  {
   "cell_type": "code",
   "execution_count": null,
   "id": "2a7bb8be",
   "metadata": {},
   "outputs": [],
   "source": [
    "# Seleciona todas as colunas em ambos os arquivos\n",
    "concatCarga = ['CPF','Nome', 'Data_Nascimento', 'Sexo', 'Matricula']\n",
    "concatSistema = ['CPF','Nome', 'Data_Nascimento', 'Sexo', 'Matricula']\n",
    "\n",
    "# Cria as colunas-chave concatenando as colunas escolhidas em cada arquivo\n",
    "analise['chave'] = analise[concatCarga].astype(str).agg(''.join, axis=1)\n",
    "sistema['chave'] = sistema[concatSistema].astype(str).agg(''.join, axis=1)\n",
    "\n",
    "# Comparar as chaves e cria uma nova coluna com o resultado \"Localizado\" ou \"Não Localizado\"\n",
    "analise['Resultado'] = analise['chave'].apply(lambda x: 'Localizado' if x in sistema['chave'].values else 'Não Localizado')\n",
    "\n",
    "# Exporta para um único arquivo Excel com as três abas (carga, sistema e analise)\n",
    "with pd.ExcelWriter('c:/Projects/tecnoblimp.comparadados.e2e/arquivos/AnaliseGeral.xlsx') as writer:\n",
    "    analise.to_excel(writer, sheet_name='Analise', index=False)\n",
    "    carga.to_excel(writer, sheet_name='DadosCarga', index=False)\n",
    "    sistema.to_excel(writer, sheet_name='DadosSistema', index=False)\n",
    "\n",
    "print('Arquivo exportado com sucesso!')"
   ]
  }
 ],
 "metadata": {
  "kernelspec": {
   "display_name": "Python 3",
   "language": "python",
   "name": "python3"
  },
  "language_info": {
   "codemirror_mode": {
    "name": "ipython",
    "version": 3
   },
   "file_extension": ".py",
   "mimetype": "text/x-python",
   "name": "python",
   "nbconvert_exporter": "python",
   "pygments_lexer": "ipython3",
   "version": "3.13.0"
  }
 },
 "nbformat": 4,
 "nbformat_minor": 5
}
