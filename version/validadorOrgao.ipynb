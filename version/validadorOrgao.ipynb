{
 "cells": [
  {
   "cell_type": "markdown",
   "id": "9e9a2f84",
   "metadata": {},
   "source": [
    "Carregando Carga de Dados"
   ]
  },
  {
   "cell_type": "code",
   "execution_count": null,
   "id": "beb25329",
   "metadata": {},
   "outputs": [],
   "source": [
    "# Bibliotecas utilizadas\n",
    "import pandas as pd\n",
    "import openpyxl\n",
    "\n",
    "# Carregar a carga de dados já tratada\n",
    "carga = pd.read_excel('c:/Users/arthur.correia/Desktop/IPERON - VALIDAÇÃO DE DADOS/2ª CARGA SISPREV/Testes de Script/CargaOrgaos.xlsx')"
   ]
  },
  {
   "cell_type": "markdown",
   "id": "0eaf2f02",
   "metadata": {},
   "source": [
    "Análise Qualitativa dos Dados"
   ]
  },
  {
   "cell_type": "code",
   "execution_count": null,
   "id": "72f594de",
   "metadata": {},
   "outputs": [],
   "source": [
    "#Visualizando as 5 primeiras linhas\n",
    "carga.tail()"
   ]
  },
  {
   "cell_type": "code",
   "execution_count": null,
   "id": "90483726",
   "metadata": {},
   "outputs": [],
   "source": [
    "#Verificando o tipo dos dados\n",
    "carga.dtypes"
   ]
  },
  {
   "cell_type": "code",
   "execution_count": null,
   "id": "f2bb6b22",
   "metadata": {},
   "outputs": [],
   "source": [
    "#Verificando se existem dados duplicados\n",
    "carga[carga.duplicated()]"
   ]
  },
  {
   "cell_type": "code",
   "execution_count": null,
   "id": "8cb598e7",
   "metadata": {},
   "outputs": [],
   "source": [
    "#Calcula a quantidade de valores nulos por colunas\n",
    "carga.isnull().sum()\n"
   ]
  },
  {
   "cell_type": "markdown",
   "id": "96353c84",
   "metadata": {},
   "source": [
    "Análise Quantitativa dos Dados"
   ]
  },
  {
   "cell_type": "code",
   "execution_count": null,
   "id": "c207f1bb",
   "metadata": {},
   "outputs": [],
   "source": [
    "# Carregando os dados do sisprev\n",
    "sisprev = pd.read_excel('c:/Users/arthur.correia/Desktop/IPERON - VALIDAÇÃO DE DADOS/2ª CARGA SISPREV/Testes de Script/SisprevOrgaos.xlsx')\n",
    "\n",
    "# Cria uma terceira tabela, baseado na carga, para alocar o resultado\n",
    "analise = carga.copy()"
   ]
  },
  {
   "cell_type": "code",
   "execution_count": null,
   "id": "e3c1263c",
   "metadata": {},
   "outputs": [],
   "source": [
    "# Compara CNPJ\n",
    "analise['ComparaCNPJ'] = analise['CNPJ'].apply(lambda x: 'Localizado' if x in sisprev['CNPJ'].values else 'Não Localizado')\n",
    "\n",
    "# Mostra o resultado da comparação (somente os registros Não Localizados)\n",
    "# Para mostrar os Localizados, alterar o valor após '=='\n",
    "analise[analise['ComparaCNPJ']=='Não Localizado'].head()"
   ]
  },
  {
   "cell_type": "code",
   "execution_count": null,
   "id": "0935542b",
   "metadata": {},
   "outputs": [],
   "source": [
    "# Exporta a análise por CNPJ\n",
    "with pd.ExcelWriter('c:/Users/arthur.correia/Desktop/IPERON - VALIDAÇÃO DE DADOS/2ª CARGA SISPREV/Testes de Script/resultado/AnaliseCNPJ.xlsx') as writer:\n",
    "    analise.to_excel(writer, sheet_name='Analise', index=False)\n",
    "    carga.to_excel(writer, sheet_name='DadosCarga', index=False)\n",
    "    sisprev.to_excel(writer, sheet_name='Dadossisprev', index=False)"
   ]
  },
  {
   "cell_type": "code",
   "execution_count": null,
   "id": "0001eb5a",
   "metadata": {},
   "outputs": [],
   "source": [
    "# Compara NomedoOrgao\n",
    "analise['ComparaNomedoOrgao'] = analise['NomedoOrgao'].apply(lambda x: 'Localizado' if x in sisprev['NomedoOrgao'].values else 'Não Localizado')\n",
    "\n",
    "# Mostra o resultado da comparação (somente os registros Não Localizados)\n",
    "# Para mostrar os Localizados, alterar o valor após '=='\n",
    "analise[analise['ComparaNomedoOrgao']=='Não Localizado'].head()"
   ]
  },
  {
   "cell_type": "code",
   "execution_count": null,
   "id": "dfa5adf7",
   "metadata": {},
   "outputs": [],
   "source": [
    "# Exporta a comparação das colunas\n",
    "with pd.ExcelWriter('c:/Users/arthur.correia/Desktop/IPERON - VALIDAÇÃO DE DADOS/2ª CARGA SISPREV/Testes de Script/resultado/AnaliseNomedoOrgao.xlsx') as writer:\n",
    "    analise.to_excel(writer, sheet_name='Analise', index=False)\n",
    "    carga.to_excel(writer, sheet_name='DadosCarga', index=False)\n",
    "    sisprev.to_excel(writer, sheet_name='Dadossisprev', index=False)"
   ]
  },
  {
   "cell_type": "code",
   "execution_count": null,
   "id": "2508b63b",
   "metadata": {},
   "outputs": [],
   "source": [
    "# Seleciona colunas\n",
    "concatCarga = ['NomedoOrgao','Poder']\n",
    "concatSisprev = ['NomedoOrgao','Poder']\n",
    "\n",
    "# Cria as colunas-chave concatenando as colunas escolhidas em cada arquivo\n",
    "analise['chaveNomeOrgao&Poder'] = analise[concatCarga].astype(str).agg(''.join, axis=1)\n",
    "sisprev['chaveNomeOrgao&Poder'] = sisprev[concatSisprev].astype(str).agg(''.join, axis=1)\n",
    "\n",
    "# Compara colunas\n",
    "analise['ComparaNomeOrgao&Poder'] = analise['chaveNomeOrgao&Poder'].apply(lambda x: 'Localizado' if x in sisprev['chaveNomeOrgao&Poder'].values else 'Não Localizado')\n",
    "\n",
    "# Mostra o resultado da comparação (somente os registros Não Localizados)\n",
    "# Para mostrar os Localizados, alterar o valor após '=='\n",
    "analise[analise['ComparaNomeOrgao&Poder']=='Não Localizado'].head()"
   ]
  },
  {
   "cell_type": "code",
   "execution_count": null,
   "id": "03c91cda",
   "metadata": {},
   "outputs": [],
   "source": [
    "# Exporta a comparação das colunas\n",
    "with pd.ExcelWriter('c:/Users/arthur.correia/Desktop/IPERON - VALIDAÇÃO DE DADOS/2ª CARGA SISPREV/Testes de Script/resultado/AnaliseNomeOrgao&Poder.xlsx') as writer:\n",
    "    analise.to_excel(writer, sheet_name='Analise', index=False)\n",
    "    carga.to_excel(writer, sheet_name='DadosCarga', index=False)\n",
    "    sisprev.to_excel(writer, sheet_name='Dadossisprev', index=False)"
   ]
  },
  {
   "cell_type": "code",
   "execution_count": null,
   "id": "2ebb1219",
   "metadata": {},
   "outputs": [],
   "source": [
    "# Seleciona colunas\n",
    "concatCarga = ['NomedoOrgao','Sigla']\n",
    "concatSisprev = ['NomedoOrgao','Sigla']\n",
    "\n",
    "# Cria as colunas-chave concatenando as colunas escolhidas em cada arquivo\n",
    "analise['chaveNomedoOrgao&Sigla'] = analise[concatCarga].astype(str).agg(''.join, axis=1)\n",
    "sisprev['chaveNomedoOrgao&Sigla'] = sisprev[concatSisprev].astype(str).agg(''.join, axis=1)\n",
    "\n",
    "# Compara colunas\n",
    "analise['ComparaNomedoOrgao&Sigla'] = analise['chaveNomedoOrgao&Sigla'].apply(lambda x: 'Localizado' if x in sisprev['chaveNomedoOrgao&Sigla'].values else 'Não Localizado')\n",
    "\n",
    "# Mostra o resultado da comparação (somente os registros Não Localizados)\n",
    "# Para mostrar os Localizados, alterar o valor após '=='\n",
    "analise[analise['ComparaNomedoOrgao&Sigla']=='Não Localizado'].head()"
   ]
  },
  {
   "cell_type": "code",
   "execution_count": null,
   "id": "ff9da6b2",
   "metadata": {},
   "outputs": [],
   "source": [
    "# Exporta a comparação das colunas\n",
    "with pd.ExcelWriter('c:/Users/arthur.correia/Desktop/IPERON - VALIDAÇÃO DE DADOS/2ª CARGA SISPREV/Testes de Script/resultado/AnaliseNomedoOrgao&Sigla.xlsx') as writer:\n",
    "    analise.to_excel(writer, sheet_name='Analise', index=False)\n",
    "    carga.to_excel(writer, sheet_name='DadosCarga', index=False)\n",
    "    sisprev.to_excel(writer, sheet_name='Dadossisprev', index=False)"
   ]
  },
  {
   "cell_type": "markdown",
   "id": "33722492",
   "metadata": {},
   "source": [
    "Junta Todas as Colunas e Exporta a Análise"
   ]
  },
  {
   "cell_type": "code",
   "execution_count": null,
   "id": "2a7bb8be",
   "metadata": {},
   "outputs": [],
   "source": [
    "# Seleciona todas as colunas em ambos os arquivos\n",
    "concatCarga = ['CNPJ','NomedoOrgao', 'Poder', 'Sigla']\n",
    "concatSisprev = ['CNPJ','NomedoOrgao', 'Poder', 'Sigla']\n",
    "\n",
    "# Cria as colunas-chave concatenando as colunas escolhidas em cada arquivo\n",
    "analise['chave'] = analise[concatCarga].astype(str).agg(''.join, axis=1)\n",
    "sisprev['chave'] = sisprev[concatSisprev].astype(str).agg(''.join, axis=1)\n",
    "\n",
    "# Comparar as chaves e cria uma nova coluna com o resultado \"Localizado\" ou \"Não Localizado\"\n",
    "analise['Resultado'] = analise['chave'].apply(lambda x: 'Localizado' if x in sisprev['chave'].values else 'Não Localizado')\n",
    "\n",
    "# Exporta para um único arquivo Excel com as três abas (carga, sisprev e analise)\n",
    "with pd.ExcelWriter('c:/Users/arthur.correia/Desktop/IPERON - VALIDAÇÃO DE DADOS/2ª CARGA SISPREV/Testes de Script/resultado/AnaliseGeral.xlsx') as writer:\n",
    "    analise.to_excel(writer, sheet_name='Analise', index=False)\n",
    "    carga.to_excel(writer, sheet_name='DadosCarga', index=False)\n",
    "    sisprev.to_excel(writer, sheet_name='Dadossisprev', index=False)\n",
    "\n",
    "print('Arquivo exportado com sucesso!')"
   ]
  }
 ],
 "metadata": {
  "kernelspec": {
   "display_name": "Python 3",
   "language": "python",
   "name": "python3"
  },
  "language_info": {
   "codemirror_mode": {
    "name": "ipython",
    "version": 3
   },
   "file_extension": ".py",
   "mimetype": "text/x-python",
   "name": "python",
   "nbconvert_exporter": "python",
   "pygments_lexer": "ipython3",
   "version": "3.13.0"
  }
 },
 "nbformat": 4,
 "nbformat_minor": 5
}
